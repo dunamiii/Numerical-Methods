{
 "cells": [
  {
   "cell_type": "markdown",
   "metadata": {
    "colab_type": "text",
    "id": "view-in-github"
   },
   "source": [
    "<a href=\"https://colab.research.google.com/github/dyjdlopez/numeth2021/blob/main/Week%202%20-%20Linear%20Algebra%20Review/NuMeth_1_Linear_Algebra_Review.ipynb\" target=\"_parent\"><img src=\"https://colab.research.google.com/assets/colab-badge.svg\" alt=\"Open In Colab\"/></a>"
   ]
  },
  {
   "cell_type": "markdown",
   "metadata": {
    "id": "CPi23qJFCw2L"
   },
   "source": [
    "### Fajardo, Donna Mae O.\n",
    "*BS CpE* <br>\n",
    "*Numerical Methods | 58015*\n",
    "***\n",
    "[click me] ()\n",
    "***\n",
    "\n",
    "\n",
    "# Linear Algebra\n",
    "\n",
    "Linear Algebra is one of the fundamental mathematics for Artificial Intelligence Development and also Computer Vision. We will see the applications of Linear Algebra in advanced mathematical techniques such as optimization, vectorized programming, and matrix manipulations. Today we will try to understand the basics of Linear Algebra using Python."
   ]
  },
  {
   "cell_type": "markdown",
   "metadata": {
    "id": "zfQWDrsEDzfi"
   },
   "source": [
    "## 1. Vectors\n",
    "NumPy or Numerical Python is a package or library that allows programmers to code and model computations and see them in action. You can check the [NumPy documentation](https://numpy.org/doc/stable/reference/index.html) on how to use their APIs.\n",
    "\n"
   ]
  },
  {
   "cell_type": "code",
   "execution_count": 4,
   "metadata": {
    "id": "NyKiAJagCr23"
   },
   "outputs": [
    {
     "name": "stdout",
     "output_type": "stream",
     "text": [
      "Defaulting to user installation because normal site-packages is not writeable\n",
      "Requirement already satisfied: numpy in c:\\users\\anaconda\\lib\\site-packages (1.19.2)\n",
      "NumPy library version: 1.19.2\n"
     ]
    }
   ],
   "source": [
    "## You can install NumPy in your local machine by doing the following line without the \"!\"\n",
    "!pip install numpy\n",
    "## But in Google Colab NumPy is already installed in your session.\n",
    "import numpy as np\n",
    "print(f'NumPy library version: {np.__version__}')"
   ]
  },
  {
   "cell_type": "markdown",
   "metadata": {
    "id": "wr7iZs8-ECIh"
   },
   "source": [
    "### Defining Vectors, Matrices, and Tensors\n",
    "Vectors, Matrices, and Tensors are the fundamental objects in Linear Algebra programming. We'll be defining each of these objects specifically in the Computer Science/Engineering perspective since it would be much confusing if we consider their Physics and Pure Mathematics definitions."
   ]
  },
  {
   "cell_type": "markdown",
   "metadata": {
    "id": "hXyQT1GoEICC"
   },
   "source": [
    "#### <i>Scalars</i>\n",
    "Scalars are numerical entities that are represented by a single value. "
   ]
  },
  {
   "cell_type": "code",
   "execution_count": null,
   "metadata": {
    "id": "euMYAk53D96k"
   },
   "outputs": [],
   "source": []
  },
  {
   "cell_type": "markdown",
   "metadata": {
    "id": "FJWsNnsnEKPR"
   },
   "source": [
    "#### *Vectors*\n",
    "Vectors are array of numerical values or scalars that would represent any feature space. Feature spaces or simply dimensions or the parameters of an equation or a function."
   ]
  },
  {
   "cell_type": "code",
   "execution_count": null,
   "metadata": {
    "id": "Y6kqO2sLEOY7"
   },
   "outputs": [],
   "source": []
  },
  {
   "cell_type": "markdown",
   "metadata": {
    "id": "UpTSGTl0EOqx"
   },
   "source": [
    "#### *Matrices*\n",
    "Matrices are array of vectors or a multi-dimensional array for features for an equation or function."
   ]
  },
  {
   "cell_type": "code",
   "execution_count": null,
   "metadata": {
    "id": "9RyugRXrEQab"
   },
   "outputs": [],
   "source": []
  },
  {
   "cell_type": "markdown",
   "metadata": {
    "id": "7aHsGCpoEQ_h"
   },
   "source": [
    "#### *Tensors*\n",
    "Tensors are an array of matrices. Tensors have dimensions, tensors can have alternate names depending on what dimension they are in. 1D tensors can be considered as vectors, 2D tensors can be considered are matrices, and 3D onwards are called high dimensional tensors."
   ]
  },
  {
   "cell_type": "code",
   "execution_count": null,
   "metadata": {
    "id": "0LsB8OX7EWiJ"
   },
   "outputs": [],
   "source": []
  },
  {
   "cell_type": "markdown",
   "metadata": {
    "id": "bpwgaV-mESxA"
   },
   "source": [
    "Here's a visual representation of the data types that we are going to use. <br>\n",
    "<img src=\"https://static.javatpoint.com/tutorial/pytorch/images/pytorch-tensors.png\">\n",
    "\n"
   ]
  },
  {
   "cell_type": "markdown",
   "metadata": {
    "id": "DuSXe7etEZPQ"
   },
   "source": [
    "### Describing Tensors\n",
    "\n",
    "Describing tensors is very important if we want to perform basic to advanced operations with them. The fundamental ways in describing tensors are knowing their shape, size, and dimensions.\n"
   ]
  },
  {
   "cell_type": "markdown",
   "metadata": {
    "id": "SwgpdKt9Em2J"
   },
   "source": [
    "#### *Shapes*\n",
    "The shape of a tensor tells us how many rows and columns are there in an axis.\n"
   ]
  },
  {
   "cell_type": "code",
   "execution_count": null,
   "metadata": {
    "id": "1_zIw1OsEluE"
   },
   "outputs": [],
   "source": []
  },
  {
   "cell_type": "markdown",
   "metadata": {
    "id": "8ApYwUyQEpmx"
   },
   "source": [
    "#### <i>Dimensions</i>\n",
    "In NumPy the dimension of a tensor is also called axes."
   ]
  },
  {
   "cell_type": "code",
   "execution_count": null,
   "metadata": {
    "id": "LCfMGIsrErwR"
   },
   "outputs": [],
   "source": []
  },
  {
   "cell_type": "markdown",
   "metadata": {
    "id": "DbzQSFQ1EsPB"
   },
   "source": [
    "#### *Sizes*\n",
    "The size of a tensor/ vector/ matrix is simply the total number of elements in it."
   ]
  },
  {
   "cell_type": "code",
   "execution_count": null,
   "metadata": {
    "id": "H6HtwIRBEvUB"
   },
   "outputs": [],
   "source": []
  },
  {
   "cell_type": "markdown",
   "metadata": {
    "id": "bfLvsCCdEvzR"
   },
   "source": [
    "## Types of Matrices\n",
    "The notation and use of matrices are probably one of the fundamentals of modern computing. Matrices are also handy representations of complex equations or multiple inter-related equations from 2-dimensional equations to even hundreds and thousands of them.\n",
    "\n",
    "Let's say for example you have $A$ and $B$ as the system of equations.\n",
    "\n",
    "$$\n",
    "A = \\left\\{\n",
    "    \\begin{array}\\\\\n",
    "        x + y \\\\ \n",
    "        4x - 10y\n",
    "    \\end{array}\n",
    "\\right. \\\\\n",
    "B = \\left\\{\n",
    "    \\begin{array}\\\\\n",
    "        x+y+z \\\\ \n",
    "        3x -2y -z \\\\\n",
    "        -x + 4y +2z\n",
    "    \\end{array}\n",
    "\\right. $$\n",
    "\n",
    "We could see that $A$ is a system of 2 equations with 2 parameters. While $B$ is a system of 3 equations with 3 parameters. We can represent them as matrices as:\n",
    "\n",
    "$$\n",
    "A=\\begin{bmatrix} 1 & 1 \\\\ 4 & {-10}\\end{bmatrix} \\\\\n",
    "B=\\begin{bmatrix} 1 & 1 & 1 \\\\ 3 & -2 & -1 \\\\ -1 & 4 & 2\\end{bmatrix}\n",
    "$$\n",
    "\n",
    "We'll represent the system of linear equations as a matrix. The entities or numbers in matrices are called the elements of a matrix. These elements are arranged and ordered in rows and columns which form the list/array-like structure of matrices. And just like arrays, these elements are indexed according to their position with respect to their rows and columns. This can be represented just like the equation below. Whereas $A$ is a matrix consisting of elements denoted by $a_{i,j}$. Denoted by $i$ is the number of rows in the matrix while $j$ stands for the number of columns.<br>\n",
    "Do note that the $size$ of a matrix is $i\\times j$.\n",
    "$$A=\\begin{bmatrix}\n",
    "a_{(0,0)}&a_{(0,1)}&\\dots&a_{(0,j-1)}\\\\\n",
    "a_{(1,0)}&a_{(1,1)}&\\dots&a_{(1,j-1)}\\\\\n",
    "\\vdots&\\vdots&\\ddots&\\vdots&\\\\\n",
    "a_{(i-1,0)}&a_{(i-1,1)}&\\dots&a_{(i-1,j-1)}\n",
    "\\end{bmatrix}\n",
    "$$\n",
    "We already gone over some of the types of matrices as vectors but we'll further discuss them in this laboratory activity. Since you already know how to describe vectors using shape, dimensions and size attributes, we'll use them to analyze these matrices."
   ]
  },
  {
   "cell_type": "code",
   "execution_count": null,
   "metadata": {
    "id": "uICoQit6E06p"
   },
   "outputs": [],
   "source": [
    "def describe_mat(matrix):\n",
    "    print(f'Matrix:\\n{matrix}\\n\\nShape:\\t{matrix.shape}\\nRank:\\t{matrix.ndim}\\n')"
   ]
  },
  {
   "cell_type": "code",
   "execution_count": null,
   "metadata": {
    "id": "CbF8cedvE7Hr"
   },
   "outputs": [],
   "source": []
  },
  {
   "cell_type": "markdown",
   "metadata": {
    "id": "Ig-gl-rSE-uq"
   },
   "source": [
    "### Matrices according to shape"
   ]
  },
  {
   "cell_type": "markdown",
   "metadata": {
    "id": "VHRtsc3fFBWw"
   },
   "source": [
    "#### *Row and Column Matrices*\n",
    "\n",
    "Row and column matrices are common in vector and matrix computations. They can also represent row and column spaces of a bigger vector space. Row and column matrices are represented by a single column or single row. So with that being, the shape of row matrices would be $1 \\times j$ and column matrices would be $i \\times 1$."
   ]
  },
  {
   "cell_type": "code",
   "execution_count": null,
   "metadata": {
    "id": "Ddc899xwFA7b"
   },
   "outputs": [],
   "source": [
    "## Declaring a Row Matrix"
   ]
  },
  {
   "cell_type": "code",
   "execution_count": null,
   "metadata": {
    "id": "Y_7qozkmFHIj"
   },
   "outputs": [],
   "source": [
    "## Declaring a Column Matrix"
   ]
  },
  {
   "cell_type": "markdown",
   "metadata": {
    "id": "B9v0LYERFK1a"
   },
   "source": [
    "#### <i>Square Matrices</i>\n",
    "Square matrices are matrices that have the same row and column sizes. We could say a matrix is square if $i = j$. We can tweak our matrix descriptor function to determine square matrices."
   ]
  },
  {
   "cell_type": "code",
   "execution_count": null,
   "metadata": {
    "id": "TjUWmKseFIkL"
   },
   "outputs": [],
   "source": []
  },
  {
   "cell_type": "markdown",
   "metadata": {
    "id": "QLWp8IaxFQHJ"
   },
   "source": [
    "### Matrices according to element values"
   ]
  },
  {
   "cell_type": "markdown",
   "metadata": {
    "id": "YXYw9-pxFS8Z"
   },
   "source": [
    "#### <i>Empty Matrix</i>\n",
    "\n",
    "An empty Matrix is a matrix that has no elements. It is always a subspace of any vector or matrix."
   ]
  },
  {
   "cell_type": "code",
   "execution_count": null,
   "metadata": {
    "id": "xlO-lmVBFRNA"
   },
   "outputs": [],
   "source": []
  },
  {
   "cell_type": "markdown",
   "metadata": {
    "id": "ofntAyNKFVkA"
   },
   "source": [
    "#### <i>Zero/Null Matrix</i>\n",
    "A zero matrix can be any rectangular matrix but with all elements having a value of 0. In most texts, the zero matrix is denoted as $\\emptyset$.<br>\n",
    "Check out: [`numpy.zeros`](https://numpy.org/doc/stable/reference/generated/numpy.zeros.html)"
   ]
  },
  {
   "cell_type": "code",
   "execution_count": null,
   "metadata": {
    "id": "bN4orlEzFV34"
   },
   "outputs": [],
   "source": []
  },
  {
   "cell_type": "markdown",
   "metadata": {
    "id": "CHwAtgfaFWWY"
   },
   "source": [
    "#### <i>Ones Matrix</i>\n",
    "A ones matrix, just like zero matrices, can be any rectangular matrix but all of its elements are 1s instead of 0s.\n",
    "\n",
    "Check out: [`numpy.ones`](https://numpy.org/doc/stable/reference/generated/numpy.ones.html)"
   ]
  },
  {
   "cell_type": "code",
   "execution_count": null,
   "metadata": {
    "id": "wZayvxxRFYHI"
   },
   "outputs": [],
   "source": []
  },
  {
   "cell_type": "markdown",
   "metadata": {
    "id": "_Y2fAx-rFYgg"
   },
   "source": [
    "#### <i>Diagonal Matrix</i>\n",
    "\n",
    "Check out: [`numpy.diag`](https://numpy.org/doc/stable/reference/generated/numpy.diag.html)"
   ]
  },
  {
   "cell_type": "code",
   "execution_count": null,
   "metadata": {
    "id": "qbl75HLUFaCQ"
   },
   "outputs": [],
   "source": []
  },
  {
   "cell_type": "markdown",
   "metadata": {
    "id": "pLxVWf2tFaaT"
   },
   "source": [
    "#### <i>Identity Matrix</i>\n",
    "An identity matrix is a special diagonal matrix in which the values at the diagonal are ones. In most texts, the identity matrix is denoted as $I$.<br>\n",
    "Check out: \n",
    "* [`numpy.eye`](https://numpy.org/doc/stable/reference/generated/numpy.eye.html)\n",
    "* [`numpy.identity`](https://numpy.org/doc/stable/reference/generated/numpy.identity.html)"
   ]
  },
  {
   "cell_type": "code",
   "execution_count": null,
   "metadata": {
    "id": "snCHNo94FcuQ"
   },
   "outputs": [],
   "source": []
  },
  {
   "cell_type": "markdown",
   "metadata": {
    "id": "4sp2nmx1FdBg"
   },
   "source": [
    "#### <i>Scalar Matrix</i>\n",
    "Since scalars cannot be explicitly operated with matrices, one workaround is to convert scalars into matrices. This is done by a matrix with all diagonal values equal to the original scalar."
   ]
  },
  {
   "cell_type": "code",
   "execution_count": null,
   "metadata": {
    "id": "y5kOPm9uFel4"
   },
   "outputs": [],
   "source": []
  },
  {
   "cell_type": "markdown",
   "metadata": {
    "id": "LRidQS1PFfSB"
   },
   "source": [
    "#### <i>Upper Triangular Matrix</i>\n",
    "An upper triangular matrix is a matrix that has no values below the diagonal."
   ]
  },
  {
   "cell_type": "code",
   "execution_count": null,
   "metadata": {
    "id": "Hznqw8iIFhPo"
   },
   "outputs": [],
   "source": []
  },
  {
   "cell_type": "markdown",
   "metadata": {
    "id": "fIt_zh7vFhuy"
   },
   "source": [
    "#### <i>Lower Triangular Matrix</i>\n",
    "\n",
    "\n",
    "A lower triangular matrix is a matrix that has no values above the diagonal."
   ]
  },
  {
   "cell_type": "code",
   "execution_count": null,
   "metadata": {
    "id": "L8AHzCphFjTh"
   },
   "outputs": [],
   "source": []
  },
  {
   "cell_type": "markdown",
   "metadata": {
    "id": "YrHljLnqFkGp"
   },
   "source": [
    "# Matrix / Tensor Algebra\n",
    "Moving forward with matrices, vectors, and tensors. We'll try to see them in action using the commonly used operations for tensors. We will now dwell on the concepts and applications of Tensor Algebra"
   ]
  },
  {
   "cell_type": "markdown",
   "metadata": {
    "id": "DHOcEAhmFnqx"
   },
   "source": [
    "## Arithmetic / Element-wise Operations\n",
    "Check out: \n",
    "* [`numpy.add`](https://numpy.org/doc/stable/reference/generated/numpy.add.html)\n",
    "* [`numpy.sum`](https://numpy.org/doc/stable/reference/generated/numpy.sum.html)\n",
    "* [`numpy.subtract`](https://numpy.org/doc/stable/reference/generated/numpy.subtract.html)\n",
    "* [`numpy.multiply`](https://numpy.org/doc/stable/reference/generated/numpy.multiply.html)\n",
    "* [`numpy.square`](https://numpy.org/doc/stable/reference/generated/numpy.square.html)\n",
    "* [`numpy.divide`](https://numpy.org/doc/stable/reference/generated/numpy.divide.html)"
   ]
  },
  {
   "cell_type": "code",
   "execution_count": 1,
   "metadata": {
    "id": "2uWM0oFZFmTJ"
   },
   "outputs": [],
   "source": [
    "## Addition"
   ]
  },
  {
   "cell_type": "code",
   "execution_count": 2,
   "metadata": {
    "id": "BRgjTiETFqzK"
   },
   "outputs": [],
   "source": [
    "## Subtraction"
   ]
  },
  {
   "cell_type": "code",
   "execution_count": 3,
   "metadata": {
    "id": "gaq2uDF1Fr1x"
   },
   "outputs": [],
   "source": [
    "## Multiplication"
   ]
  },
  {
   "cell_type": "code",
   "execution_count": null,
   "metadata": {
    "id": "nmZ5be7lFup5"
   },
   "outputs": [],
   "source": [
    "## Division"
   ]
  },
  {
   "cell_type": "markdown",
   "metadata": {
    "id": "teroH5PJF1Fw"
   },
   "source": [
    "## Transpose of a Matrix\n",
    "One of the fundamental operations in matrix algebra is Transposition. The transpose of a matrix is done by flipping the values of its elements over its diagonals. With this, the rows and columns from the original matrix will be switched. So for a matrix $A$ its transpose is denoted as $A^T$. So for example:\n",
    "\n",
    "$$A = \\begin{bmatrix} 1 & 2 & 5\\\\5 & -1 &0 \\\\ 0 & -3 & 3\\end{bmatrix} $$\n",
    "$$ A^T = \\begin{bmatrix} 1 & 5 & 0\\\\2 & -1 &-3 \\\\ 5 & 0 & 3\\end{bmatrix}$$\n",
    "This can now be achieved programmatically by using `np.transpose()` or using the `T` method.<br>\n",
    "Check out:\n",
    "* [`np.transpose`](https://numpy.org/doc/stable/reference/generated/numpy.transpose.html)\n"
   ]
  },
  {
   "cell_type": "code",
   "execution_count": null,
   "metadata": {
    "id": "GbI3wbxTF3pJ"
   },
   "outputs": [],
   "source": []
  },
  {
   "cell_type": "markdown",
   "metadata": {
    "id": "66BnVMxeF5rB"
   },
   "source": [
    "## Vector Product\n",
    "The inner product of a vector is the sum of the products of each element of the vectors. So given vectors $H$ and $G$ below:\n",
    "$$H=\\begin{bmatrix}1\\\\3\\\\6\\end{bmatrix}, G = \\begin{bmatrix}5\\\\2\\\\1\\end{bmatrix}$$\n",
    "We first take the element-wise product of the vectors:\n",
    "$$H*G = \\begin{bmatrix}5\\\\6\\\\6\\end{bmatrix}$$\n",
    "Then we take the sum of the products, making it the inner product of a vector:\n",
    "$$H\\cdot G = 17$$\n",
    "You can solve for the inner product using an explicit function, `np.inner()` or the `@` operator.<br>\n",
    "Check out:\n",
    "* [`np.inner`](https://numpy.org/doc/stable/reference/generated/numpy.inner.html)"
   ]
  },
  {
   "cell_type": "code",
   "execution_count": null,
   "metadata": {
    "id": "-m73UfOQF764"
   },
   "outputs": [],
   "source": []
  },
  {
   "cell_type": "markdown",
   "metadata": {
    "id": "1yvij6t2F90h"
   },
   "source": [
    "In matrix dot products, we are going to get the sum of products of the vectors by row-column pairs. So if we have two matrices $X$ and $Y$:\n",
    "\n",
    "$$X = \\begin{bmatrix}x_{(0,0)}&x_{(0,1)}\\\\ x_{(1,0)}&x_{(1,1)}\\end{bmatrix}, Y = \\begin{bmatrix}y_{(0,0)}&y_{(0,1)}\\\\ y_{(1,0)}&y_{(1,1)}\\end{bmatrix}$$\n",
    "\n",
    "The dot product will then be computed as:\n",
    "$$X \\cdot Y= \\begin{bmatrix} x_{(0,0)}*y_{(0,0)} + x_{(0,1)}*y_{(1,0)} & x_{(0,0)}*y_{(0,1)} + x_{(0,1)}*y_{(1,1)} \\\\  x_{(1,0)}*y_{(0,0)} + x_{(1,1)}*y_{(1,0)} & x_{(1,0)}*y_{(0,1)} + x_{(1,1)}*y_{(1,1)}\n",
    "\\end{bmatrix}$$\n",
    "\n",
    "So if we assign values to $X$ and $Y$:\n",
    "$$X = \\begin{bmatrix}1&2\\\\0&1\\end{bmatrix}, Y = \\begin{bmatrix}-1&0\\\\ 2&2\\end{bmatrix}$$\n",
    "Check out:\n",
    "* [`np.dot`](https://numpy.org/doc/stable/reference/generated/numpy.inner.html)"
   ]
  },
  {
   "cell_type": "code",
   "execution_count": null,
   "metadata": {
    "id": "HdKvvQ4IF-Ep"
   },
   "outputs": [],
   "source": []
  },
  {
   "cell_type": "markdown",
   "metadata": {
    "id": "_oK1tJptGAER"
   },
   "source": [
    "In matrix dot products there are additional rules compared with vector dot products. Since vector dot products were just in one dimension, there are fewer restrictions. Since now we are dealing with Rank 2 vectors we need to consider some rules:\n",
    "\n",
    "**Rule 1: The inner dimensions of the two matrices in question must be the same.**\n",
    "\n",
    "So given a matrix $A$ with a shape of $(a,b)$ where $a$ and $b$ are any integers. If we want to do a dot product between $A$ and another matrix $B$, then matrix $B$ should have a shape of $(b,c)$ where $b$ and $c$ are any integers. So for given the following matrices:\n",
    "\n",
    "$$A = \\begin{bmatrix}2&4\\\\5&-2\\\\0&1\\end{bmatrix}, B = \\begin{bmatrix}1&1\\\\3&3\\\\-1&-2\\end{bmatrix}, C = \\begin{bmatrix}0&1&1\\\\1&1&2\\end{bmatrix}$$\n",
    "\n",
    "So in this case $A$ has a shape of $(3,2)$, $B$ has a shape of $(3,2)$ and $C$ has a shape of $(2,3)$. So the only matrix pairs that is eligible to perform dot product is matrices $A \\cdot C$, or $B \\cdot C$.  "
   ]
  },
  {
   "cell_type": "code",
   "execution_count": null,
   "metadata": {
    "id": "JxDIYsPcGF3p"
   },
   "outputs": [],
   "source": []
  },
  {
   "cell_type": "markdown",
   "metadata": {
    "id": "MfSjkrITGGOZ"
   },
   "source": [
    "**Rule 2: Dot Product has special properties**\n",
    "\n",
    "Dot products are prevalent in matrix algebra, this implies that it has several unique properties and it should be considered when formulation solutions:\n",
    " 1. $A \\cdot B \\neq B \\cdot A$\n",
    " 2. $A \\cdot (B \\cdot C) = (A \\cdot B) \\cdot C$\n",
    " 3. $A\\cdot(B+C) = A\\cdot B + A\\cdot C$\n",
    " 4. $(B+C)\\cdot A = B\\cdot A + C\\cdot A$\n",
    " 5. $A\\cdot I = A$\n",
    " 6. $A\\cdot \\emptyset = \\emptyset$ "
   ]
  },
  {
   "cell_type": "code",
   "execution_count": null,
   "metadata": {
    "id": "g4dRHPVOGlig"
   },
   "outputs": [],
   "source": []
  },
  {
   "cell_type": "markdown",
   "metadata": {
    "id": "IMysYX4QGiuQ"
   },
   "source": [
    "## Determinants\n",
    "A determinant is a scalar value derived from a square matrix. The determinant is a fundamental and important value used in matrix algebra. \n",
    "\n",
    "The determinant of some matrix $A$ is denoted as $det(A)$ or $|A|$. So let's say $A$ is represented as:\n",
    "$$A = \\begin{bmatrix}a_{(0,0)}&a_{(0,1)}\\\\a_{(1,0)}&a_{(1,1)}\\end{bmatrix}$$\n",
    "We can compute for the determinant as:\n",
    "$$|A| = a_{(0,0)}*a_{(1,1)} - a_{(1,0)}*a_{(0,1)}$$\n",
    "So if we have $A$ as:\n",
    "$$A = \\begin{bmatrix}1&4\\\\0&3\\end{bmatrix}, |A| = 3$$\n",
    "\n",
    "But you might wonder how about square matrices beyond the shape $(2,2)$? We can approach this problem by using several methods such as co-factor expansion and the minors method. This can be taught in the lecture of the laboratory but we can achieve the strenuous computation of high-dimensional matrices programmatically using Python. We can achieve this by using [`np.linalg.det`](https://numpy.org/doc/stable/reference/generated/numpy.linalg.det.html)."
   ]
  },
  {
   "cell_type": "code",
   "execution_count": null,
   "metadata": {
    "id": "Sj5X1o_mGIRg"
   },
   "outputs": [],
   "source": []
  },
  {
   "cell_type": "markdown",
   "metadata": {
    "id": "7j3EPb9ZGsdI"
   },
   "source": [
    "## 2.6 Matrix Inverse\n",
    "\n",
    "The inverse of a matrix is another fundamental operation in matrix algebra. Determining the inverse of a matrix let us determine if its solvability and its characteristic as a system of linear equation. Another use of the inverse matrix is solving the problem of divisibility between matrices. Although element-wise division exist but dividing the entire concept of matrices does not exists. Inverse matrices provide a related operation that could have the same concept of \"dividing\" matrices.\n",
    "\n",
    "Now to determine the inverse of a matrix we need to perform several steps. So let's say we have a matrix $M$:\n",
    "$$M = \\begin{bmatrix}1&7\\\\-3&5\\end{bmatrix}$$\n",
    "First, we need to get the determinant of $M$.\n",
    "$$|M| = (1)(5)-(-3)(7) = 26$$\n",
    "Next, we need to reform the matrix into the inverse form:\n",
    "$$M^{-1} = \\frac{1}{|M|} \\begin{bmatrix} m_{(1,1)} & -m_{(0,1)} \\\\ -m_{(1,0)} & m_{(0,0)}\\end{bmatrix}$$\n",
    "So that will be:\n",
    "$$M^{-1} = \\frac{1}{26} \\begin{bmatrix} 5 & -7 \\\\ 3 & 1\\end{bmatrix} = \\begin{bmatrix} \\frac{5}{26} & \\frac{-7}{26} \\\\ \\frac{3}{26} & \\frac{1}{26}\\end{bmatrix}$$\n",
    "For higher-dimension matrices, you might need to use co-factors, minors, adjugates, and other reduction techniques. To solve this programmatically we can use [`np.linalg.inv`](https://numpy.org/doc/stable/reference/generated/numpy.linalg.inv.html).\n",
    "\n",
    "To validate the wether if the matric that you have solved is really the inverse, we follow this dot product property for a matrix $M$:\n",
    "$$M\\cdot M^{-1} = I$$"
   ]
  },
  {
   "cell_type": "code",
   "execution_count": null,
   "metadata": {
    "id": "no8zVYLmGuJ9"
   },
   "outputs": [],
   "source": []
  },
  {
   "cell_type": "markdown",
   "metadata": {
    "id": "hmNLmGPvGuig"
   },
   "source": [
    "# System of Linear Equations\n",
    "\n",
    "Solving linear equations is one of the fundamental skills of higher engineering mathematics. Aside from solving them, we must be skilled enough to spot them in the wild as well.\n",
    "\n",
    "Given an equation:\n",
    "$$\n",
    "B = \\left\\{\n",
    "    \\begin{array}\\\\\n",
    "        x+y+z=1\\\\ \n",
    "        3x -2y -z=4 \\\\\n",
    "        -x + 4y +2z=-3\n",
    "    \\end{array}\n",
    "\\right. $$\n",
    "\n",
    "We can represent it in matrix form considering the linear combination of the equations. We can also think of its dot product form:\n",
    "$$\n",
    "\\begin{bmatrix}1&1&1\\\\3&-2&-1\\\\-1&4&2\\end{bmatrix} \\cdot \\begin{bmatrix}x\\\\ y\\\\ z\\end{bmatrix} = \\begin{bmatrix}1\\\\4\\\\-3\\end{bmatrix}\n",
    "$$\n",
    "We can make a general form for this equation by putting our matrices and vectors as variables. So let's say that the matrix $\\begin{bmatrix}1&1&1\\\\3&-2&-1\\\\-1&4&2\\end{bmatrix}$ is $X$ and $\\begin{bmatrix}x\\\\ y\\\\ z\\end{bmatrix} = \\begin{bmatrix}x\\\\y\\\\z\\end{bmatrix}$ is the vector $r$ then the answer $\\begin{bmatrix}1\\\\4\\\\-3\\end{bmatrix}$ as $Y$. So we'll have:\n",
    "$$\n",
    "X r = Y\n",
    "$$\n",
    "Our goal is to solve for $r$ so we can solve it algebraically by multiplying both sides with the inverse of $X$, so we'll get:\n",
    "$$\n",
    "X^{-1}X r = X^{-1}Y\\\\\n",
    "Ir = X^{-1}Y\\\\\n",
    "r = X^{-1}Y\n",
    "$$\n",
    "We'll take $r = X^{-1}Y$ as the $\\textbf{vectorized}$ equation as our formula in solving for the vector $r$ or simply solving for $x,y,$and$z$. We can then code that as:"
   ]
  },
  {
   "cell_type": "code",
   "execution_count": null,
   "metadata": {
    "id": "GzoKTOWMG8Hh"
   },
   "outputs": [],
   "source": []
  },
  {
   "cell_type": "markdown",
   "metadata": {
    "id": "h9cOTHv2IpS4"
   },
   "source": [
    "### Visualizing Vectors\n",
    "\n",
    "So far I know you have been experiencing mathematical exhaustion due to all these mathematical expressions. Allow me to show you a tad more interesting side of Linear Algebra.\n",
    "\n",
    "Undoubtedly, one of the most interesting and frustrating parts of Data Analysts and Data Scientist is visualizing data. Although we will be visualizing more on matrices and tensors. So, bear with me here and I'll try to spark a bit of interest in you guys. "
   ]
  },
  {
   "cell_type": "code",
   "execution_count": null,
   "metadata": {
    "id": "Q2hEQblFIsAo"
   },
   "outputs": [],
   "source": [
    "### If you haven't installed it use:\n",
    "#!pip install matplotlib\n",
    "\n",
    "import matplotlib.pyplot as plt"
   ]
  },
  {
   "cell_type": "markdown",
   "metadata": {
    "id": "yTjmJzzfItuQ"
   },
   "source": [
    "#### <i>2D Cartersian Plots</i>\n",
    "Check out:\n",
    "* [`matplotlib.pyplot.xlim`](https://matplotlib.org/3.3.3/api/_as_gen/matplotlib.pyplot.xlim.html)\n",
    "* [`matplotlib.pyplot.ylim`](https://matplotlib.org/3.3.3/api/_as_gen/matplotlib.pyplot.ylim.html)\n",
    "* [`matplotlib.pyplot.quiver`](https://matplotlib.org/3.3.3/api/_as_gen/matplotlib.pyplot.quiver.html)\n",
    "* [`matplotlib.pyplot.grid`](https://matplotlib.org/3.3.3/api/_as_gen/matplotlib.pyplot.grid.html)\n",
    "* [`matplotlib.pyplot.show`](https://matplotlib.org/3.3.3/api/_as_gen/matplotlib.pyplot.show.html)"
   ]
  },
  {
   "cell_type": "code",
   "execution_count": null,
   "metadata": {
    "id": "hg52Q9AKIvbI"
   },
   "outputs": [],
   "source": [
    "A = np.array([4, 3])\n",
    "B = np.array([2, -5])\n",
    "\n",
    "# plt.xlim(-15, 15)\n",
    "# plt.ylim(-15, 15)\n",
    "plt.quiver(0,0, A[0], A[1], angles='xy', scale_units='xy',scale=1, color='red') # Red --> A\n",
    "plt.quiver(A[0], A[1], B[0], B[1], angles='xy', scale_units='xy',scale=1, color='b') # Blue --> B\n",
    "R = A + B\n",
    "print(R)\n",
    "\n",
    "# plt.grid()\n",
    "# plt.show()\n"
   ]
  },
  {
   "cell_type": "markdown",
   "metadata": {
    "id": "06hJJe31I85Y"
   },
   "source": [
    "## Practice 1: Modulus of a Vector\n",
    "The modulus of a vector or the magnitude of a vector can be determined using the Pythagorean theorem. Given the vector $A$ and its scalars denoted as $a_n$ where $n$ is the index of the scalar. So if we have:\n",
    "$$A = \\begin{bmatrix}1\\\\2\\end{bmatrix}$$\n",
    "We can compute the magnitude as:\n",
    "$$||A|| = \\sqrt{a_1^2 + a_2^2} = \\sqrt{1^2 + 2^2} = \\sqrt{5}$$\n",
    "So if we have a matrix with more parameters such as:\n",
    "$$B=\\begin{bmatrix}2\\\\5\\\\-1\\\\0\\end{bmatrix}$$\n",
    "We can generalize the Pythagorean theorem to compute for the magnitude as:\n",
    "$$||B|| = \\sqrt{b_1^2 + b_2^2 + b_3^2 + ... +b_n^2} = \\sqrt{\\sum_{n=1}^{N}b_n^2}$$\n",
    "And this equation is now called a Euclidian distance or the Euclidean Norm. "
   ]
  },
  {
   "cell_type": "code",
   "execution_count": 7,
   "metadata": {},
   "outputs": [],
   "source": [
    "A=np.array([1,2])\n",
    "B=np.array([2,5,-1,0])"
   ]
  },
  {
   "cell_type": "markdown",
   "metadata": {},
   "source": [
    "***\n",
    "We can use brute force in performing the euclidean norm by using the mathematical operation square root. This can be done by laying out the formula in right order. Whereas we get the square root of the sum of the each element of an array that is squared individually. \n",
    "***"
   ]
  },
  {
   "cell_type": "code",
   "execution_count": 22,
   "metadata": {},
   "outputs": [],
   "source": [
    "from math import sqrt\n",
    "def e_norm(x):\n",
    "    euclidean_distance = sqrt((x[0])**2 + (x[1])**2 )\n",
    "    return euclidean_distance "
   ]
  },
  {
   "cell_type": "code",
   "execution_count": 23,
   "metadata": {},
   "outputs": [
    {
     "name": "stdout",
     "output_type": "stream",
     "text": [
      "2.23606797749979\n"
     ]
    },
    {
     "data": {
      "text/plain": [
       "5.385164807134504"
      ]
     },
     "execution_count": 23,
     "metadata": {},
     "output_type": "execute_result"
    }
   ],
   "source": [
    "print(e_norm(A))\n",
    "e_norm(B)"
   ]
  },
  {
   "cell_type": "markdown",
   "metadata": {},
   "source": [
    "***\n",
    "A numpy function linalg.norm is used to calculate one of the eight different matrix norms or one of the vector norms[1].\n",
    "It implicity solve the equation by using euclidian norm formula. Using this preset function is efficient than brute force because it will automatically solve all the elements inside of the array no matter how many it is. Where in brute force you have to input it individually.\n",
    "***"
   ]
  },
  {
   "cell_type": "code",
   "execution_count": 54,
   "metadata": {
    "id": "evLYDA2dI9XQ",
    "scrolled": false
   },
   "outputs": [
    {
     "name": "stdout",
     "output_type": "stream",
     "text": [
      "2.23606797749979\n"
     ]
    },
    {
     "data": {
      "text/plain": [
       "5.477225575051661"
      ]
     },
     "execution_count": 54,
     "metadata": {},
     "output_type": "execute_result"
    }
   ],
   "source": [
    "print(np.linalg.norm(A))\n",
    "np.linalg.norm(B)"
   ]
  },
  {
   "cell_type": "markdown",
   "metadata": {
    "id": "BrzGwH5cI-Aw"
   },
   "source": [
    "## Practice 2: The Sigmoid\n",
    "The sigmoid function is one of the popular Activation Functions which we will discuss later on. The sigmoid is a bounded, differentiable, real function in which its range would be any value from 0 to 1. It is widely used in binary classifications.\n",
    "![image](https://upload.wikimedia.org/wikipedia/commons/thumb/8/88/Logistic-curve.svg/1200px-Logistic-curve.svg.png)\n",
    "If we were to check the equation characterizing this curve in textbooks or journals it would be:\n",
    "$$sig(x)=\\frac{1}{1+e^{-x}}$$\n",
    "or\n",
    "$$\\sigma(x)=\\frac{1}{1+e^{-x}}$$\n",
    "So let's try to translate this in NumPy. You might want to use [`numpy.exp`](https://numpy.org/doc/stable/reference/generated/numpy.exp.html) for this function. <br>\n",
    "If you want to read more about the sigmoid function click [here](https://medium.com/@himanshuxd/activation-functions-sigmoid-relu-leaky-relu-and-softmax-basics-for-neural-networks-and-deep-8d9c70eed91e)."
   ]
  },
  {
   "cell_type": "markdown",
   "metadata": {},
   "source": [
    "***\n",
    "In coding the sigmoid function, a function was created and under the function is the formula. The formula was implicitly coded and a function numpy exp was used. Where numpy.exp calculate the exponential of all elements in an array[2]. In an array each element will be raised to negative x. <br>\n",
    "\n",
    "<br> The output will show the result from the calculated sigmoid function and the number of output depends on how many element the array has. Each element will be the inputted value or the x in the sigmoid formula. All the result should only be between the value 0 - 1.\n",
    "***"
   ]
  },
  {
   "cell_type": "code",
   "execution_count": 26,
   "metadata": {
    "id": "4UTUaj1pJAH3"
   },
   "outputs": [],
   "source": [
    "def sigmoid(x):\n",
    "    sigmoid_formula =1 / (1 + np.exp(-x)) \n",
    "    return sigmoid_formula"
   ]
  },
  {
   "cell_type": "code",
   "execution_count": 27,
   "metadata": {},
   "outputs": [
    {
     "name": "stdout",
     "output_type": "stream",
     "text": [
      "[0.73105858 0.88079708]\n",
      "[0.88079708 0.99330715 0.26894142 0.5       ]\n"
     ]
    }
   ],
   "source": [
    "print(sigmoid(A))\n",
    "print(sigmoid(B))"
   ]
  },
  {
   "cell_type": "markdown",
   "metadata": {},
   "source": [
    "***\n",
    "**References:<br>\n",
    "[1] What is the np.linalg.norm() method in NumPy? (n.d.). Retrieved February 23, 2021, from https://www.educative.io/edpresso/what-is-the-nplinalgnorm-method-in-numpy <br>\n",
    "[2] numpy.exp — NumPy v1.20 Manual. (n.d.). Retrieved February 23, 2021, from https://numpy.org/doc/stable/reference/generated/numpy.exp.html\n",
    "***"
   ]
  }
 ],
 "metadata": {
  "colab": {
   "authorship_tag": "ABX9TyOML1z8zgJ1eh/1I2ya4iA9",
   "collapsed_sections": [],
   "include_colab_link": true,
   "name": "NuMeth 1 - Linear Algebra Review",
   "provenance": [],
   "toc_visible": true
  },
  "kernelspec": {
   "display_name": "Python 3",
   "language": "python",
   "name": "python3"
  },
  "language_info": {
   "codemirror_mode": {
    "name": "ipython",
    "version": 3
   },
   "file_extension": ".py",
   "mimetype": "text/x-python",
   "name": "python",
   "nbconvert_exporter": "python",
   "pygments_lexer": "ipython3",
   "version": "3.8.5"
  }
 },
 "nbformat": 4,
 "nbformat_minor": 1
}
