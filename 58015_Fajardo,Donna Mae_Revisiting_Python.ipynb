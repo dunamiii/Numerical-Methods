{
 "cells": [
  {
   "cell_type": "markdown",
   "metadata": {
    "colab_type": "text",
    "id": "view-in-github"
   },
   "source": [
    "<a href=\"https://colab.research.google.com/github/dyjdlopez/numeth2021/blob/main/Week%201%20-%20Programming%20Fundamentals/CpE_Programming_101_b_Python_Fundamentals.ipynb\" target=\"_parent\"><img src=\"https://colab.research.google.com/assets/colab-badge.svg\" alt=\"Open In Colab\"/></a>"
   ]
  },
  {
   "cell_type": "markdown",
   "metadata": {
    "id": "QnAdk8hy7Bl9"
   },
   "source": [
    "# Welcome to Python Fundamentals\n",
    "### Fajardo, Donna Mae O.\n",
    "*BS CpE* <br>\n",
    "*Numerical Methods | 58015*\n",
    "***\n",
    "\n",
    "In this module, we are going to establish or review our skills in Python programming. In this notebook we are going to cover:\n",
    "* Variables and Data Types \n",
    "* Operations\n",
    "* Input and Output Operations\n",
    "* Logic Control\n",
    "* Iterables\n",
    "* Functions"
   ]
  },
  {
   "cell_type": "markdown",
   "metadata": {},
   "source": [
    "***\n",
    "<font color=green> A variable is a specific. case-sensitive name that will be used to call up a value through variable name. While data types are about what type of value/s being used or stored in a variable</font>\n",
    "***"
   ]
  },
  {
   "cell_type": "markdown",
   "metadata": {
    "id": "T6ABRAjTT1Ta"
   },
   "source": [
    "## Variable and Data Types"
   ]
  },
  {
   "cell_type": "code",
   "execution_count": 5,
   "metadata": {
    "id": "G8JI3DTZ616F"
   },
   "outputs": [],
   "source": [
    "x = 1          #Assigning a Variable\n",
    "a,b = 0, -1"
   ]
  },
  {
   "cell_type": "code",
   "execution_count": 6,
   "metadata": {
    "id": "QLT9rz2dUJ95"
   },
   "outputs": [
    {
     "data": {
      "text/plain": [
       "int"
      ]
     },
     "execution_count": 6,
     "metadata": {},
     "output_type": "execute_result"
    }
   ],
   "source": [
    "type(x)     #Identifying what type the variable is"
   ]
  },
  {
   "cell_type": "code",
   "execution_count": 7,
   "metadata": {
    "id": "TR_rvX4SUWqx"
   },
   "outputs": [
    {
     "data": {
      "text/plain": [
       "float"
      ]
     },
     "execution_count": 7,
     "metadata": {},
     "output_type": "execute_result"
    }
   ],
   "source": [
    "y = 1.0\n",
    "type(y)"
   ]
  },
  {
   "cell_type": "code",
   "execution_count": 8,
   "metadata": {
    "id": "FqV2upOiXcnC"
   },
   "outputs": [
    {
     "data": {
      "text/plain": [
       "float"
      ]
     },
     "execution_count": 8,
     "metadata": {},
     "output_type": "execute_result"
    }
   ],
   "source": [
    "x = float(x)\n",
    "type(x)"
   ]
  },
  {
   "cell_type": "code",
   "execution_count": 9,
   "metadata": {
    "id": "2tuyqwmyXiDb"
   },
   "outputs": [
    {
     "data": {
      "text/plain": [
       "str"
      ]
     },
     "execution_count": 9,
     "metadata": {},
     "output_type": "execute_result"
    }
   ],
   "source": [
    "s,t,u = \"0\", '1', 'one'\n",
    "type(s)"
   ]
  },
  {
   "cell_type": "code",
   "execution_count": 10,
   "metadata": {
    "id": "6JwWqHx3XlmB"
   },
   "outputs": [
    {
     "data": {
      "text/plain": [
       "0"
      ]
     },
     "execution_count": 10,
     "metadata": {},
     "output_type": "execute_result"
    }
   ],
   "source": [
    "s_int = int(s)    #Changing the type of the variable\n",
    "s_int"
   ]
  },
  {
   "cell_type": "markdown",
   "metadata": {
    "id": "9RgPwQR4YVG5"
   },
   "source": [
    "## Operations"
   ]
  },
  {
   "cell_type": "markdown",
   "metadata": {},
   "source": [
    "***\n",
    "<font color=green>Mathematical Operations can be done through programming by having variables and using these variables to peroform arithmetic operations using the equivalent code for the mathematical operators.</font>\n",
    "***"
   ]
  },
  {
   "cell_type": "markdown",
   "metadata": {
    "id": "mvoS_zuJYbsg"
   },
   "source": [
    "### Arithmetic"
   ]
  },
  {
   "cell_type": "code",
   "execution_count": null,
   "metadata": {
    "id": "DSjUO0KcYoE-"
   },
   "outputs": [],
   "source": [
    "a,b,c,d = 2.0, -0.5, 0, -32"
   ]
  },
  {
   "cell_type": "code",
   "execution_count": null,
   "metadata": {
    "id": "o_kk0XFzYX9o"
   },
   "outputs": [],
   "source": [
    "### Addition\n",
    "S = a+b\n",
    "S"
   ]
  },
  {
   "cell_type": "code",
   "execution_count": null,
   "metadata": {
    "id": "TC5oFq3MY4jk"
   },
   "outputs": [],
   "source": [
    "### Subtraction\n",
    "D = b-d\n",
    "D"
   ]
  },
  {
   "cell_type": "code",
   "execution_count": null,
   "metadata": {
    "id": "j0bGayj5Y9wr"
   },
   "outputs": [],
   "source": [
    "### Multiplication\n",
    "P = a*d\n",
    "P"
   ]
  },
  {
   "cell_type": "code",
   "execution_count": null,
   "metadata": {
    "id": "FnMWmq5LZLEU"
   },
   "outputs": [],
   "source": [
    "### Division\n",
    "Q = c/a\n",
    "Q"
   ]
  },
  {
   "cell_type": "code",
   "execution_count": null,
   "metadata": {
    "id": "cQeVcFIWZd8o"
   },
   "outputs": [],
   "source": [
    "### Floor Division\n",
    "Fq = a//b\n",
    "Fq"
   ]
  },
  {
   "cell_type": "code",
   "execution_count": null,
   "metadata": {
    "id": "YLaUu6APZSzR"
   },
   "outputs": [],
   "source": [
    "### Exponentiation\n",
    "E = a**b\n",
    "E"
   ]
  },
  {
   "cell_type": "code",
   "execution_count": null,
   "metadata": {
    "id": "uf_0sf4CZ1JT"
   },
   "outputs": [],
   "source": [
    "### Modulo\n",
    "mod = d%a\n",
    "mod"
   ]
  },
  {
   "cell_type": "markdown",
   "metadata": {},
   "source": [
    "***\n",
    "<font color=green>Assignment Operations is an action where assigning values to variables. There are various compound operators that adds to the variable and later assigns the same.</font>\n",
    "***"
   ]
  },
  {
   "cell_type": "markdown",
   "metadata": {
    "id": "afyWvb1ZaJJ6"
   },
   "source": [
    "### Assignment Operations"
   ]
  },
  {
   "cell_type": "code",
   "execution_count": 11,
   "metadata": {
    "id": "rMZ8r4WhanaE"
   },
   "outputs": [],
   "source": [
    "G, H, J, K = 0, 100, 2, 2"
   ]
  },
  {
   "cell_type": "code",
   "execution_count": 12,
   "metadata": {
    "id": "IX0EbJ8RaMih"
   },
   "outputs": [
    {
     "data": {
      "text/plain": [
       "0"
      ]
     },
     "execution_count": 12,
     "metadata": {},
     "output_type": "execute_result"
    }
   ],
   "source": [
    "G += a\n",
    "G"
   ]
  },
  {
   "cell_type": "code",
   "execution_count": 14,
   "metadata": {
    "id": "aIj4hA-JaRA0"
   },
   "outputs": [
    {
     "data": {
      "text/plain": [
       "98"
      ]
     },
     "execution_count": 14,
     "metadata": {},
     "output_type": "execute_result"
    }
   ],
   "source": [
    "H -= K\n",
    "H"
   ]
  },
  {
   "cell_type": "code",
   "execution_count": 15,
   "metadata": {
    "id": "vuuDbAbNaXgS"
   },
   "outputs": [
    {
     "data": {
      "text/plain": [
       "4"
      ]
     },
     "execution_count": 15,
     "metadata": {},
     "output_type": "execute_result"
    }
   ],
   "source": [
    "J *= 2\n",
    "J"
   ]
  },
  {
   "cell_type": "code",
   "execution_count": 16,
   "metadata": {
    "id": "sGVXGduUaeAj"
   },
   "outputs": [
    {
     "data": {
      "text/plain": [
       "4"
      ]
     },
     "execution_count": 16,
     "metadata": {},
     "output_type": "execute_result"
    }
   ],
   "source": [
    "K **= 2\n",
    "K"
   ]
  },
  {
   "cell_type": "markdown",
   "metadata": {},
   "source": [
    "***\n",
    "<font color=green>You can compare the values of a variable by using comparison operators. The output will show either true or false depending to the condition set.</font>\n",
    "***"
   ]
  },
  {
   "cell_type": "markdown",
   "metadata": {
    "id": "UGXuqhVNbW7R"
   },
   "source": [
    "### Comparators"
   ]
  },
  {
   "cell_type": "code",
   "execution_count": 17,
   "metadata": {
    "id": "Oj9xLaEaYeuY"
   },
   "outputs": [],
   "source": [
    "res_1, res_2, res_3 = 1, 2.0, \"1\"\n",
    "true_val = 1.0"
   ]
  },
  {
   "cell_type": "code",
   "execution_count": 18,
   "metadata": {
    "id": "GEXm6RSsbA8Q"
   },
   "outputs": [
    {
     "data": {
      "text/plain": [
       "True"
      ]
     },
     "execution_count": 18,
     "metadata": {},
     "output_type": "execute_result"
    }
   ],
   "source": [
    "## Equality\n",
    "res_1 == true_val"
   ]
  },
  {
   "cell_type": "code",
   "execution_count": 19,
   "metadata": {
    "id": "SdHk_b58bZhD"
   },
   "outputs": [
    {
     "data": {
      "text/plain": [
       "True"
      ]
     },
     "execution_count": 19,
     "metadata": {},
     "output_type": "execute_result"
    }
   ],
   "source": [
    "## Non-equality\n",
    "res_2 != true_val"
   ]
  },
  {
   "cell_type": "code",
   "execution_count": 20,
   "metadata": {
    "id": "EnA4q50JbQB5"
   },
   "outputs": [
    {
     "data": {
      "text/plain": [
       "False"
      ]
     },
     "execution_count": 20,
     "metadata": {},
     "output_type": "execute_result"
    }
   ],
   "source": [
    "## Inequality\n",
    "t1 = res_1 > res_2\n",
    "t2 = res_1 < res_2/2\n",
    "t3 = res_1 >= res_2/2\n",
    "t4 = res_1 <= res_2  \n",
    "t1"
   ]
  },
  {
   "cell_type": "markdown",
   "metadata": {},
   "source": [
    "***\n",
    "<font color=green>There are three logical operators, these are: and, or not. \n",
    " * and- true if both the operands are true. \n",
    " * or - true if either of the operands are true\n",
    " * not - true if operand is false(complements the operators)</font>\n",
    " \n",
    "***"
   ]
  },
  {
   "cell_type": "markdown",
   "metadata": {
    "id": "9WkfdvbfcC1Y"
   },
   "source": [
    "### Logical"
   ]
  },
  {
   "cell_type": "code",
   "execution_count": 21,
   "metadata": {
    "id": "cYVG6YeNb-Gz"
   },
   "outputs": [
    {
     "data": {
      "text/plain": [
       "True"
      ]
     },
     "execution_count": 21,
     "metadata": {},
     "output_type": "execute_result"
    }
   ],
   "source": [
    "res_1 == true_val"
   ]
  },
  {
   "cell_type": "code",
   "execution_count": 22,
   "metadata": {
    "id": "rLe6hpkHcN-z"
   },
   "outputs": [
    {
     "data": {
      "text/plain": [
       "False"
      ]
     },
     "execution_count": 22,
     "metadata": {},
     "output_type": "execute_result"
    }
   ],
   "source": [
    "res_1 is true_val"
   ]
  },
  {
   "cell_type": "code",
   "execution_count": 23,
   "metadata": {
    "id": "tr5qxHQmcO-C"
   },
   "outputs": [
    {
     "data": {
      "text/plain": [
       "True"
      ]
     },
     "execution_count": 23,
     "metadata": {},
     "output_type": "execute_result"
    }
   ],
   "source": [
    "res_1 is not true_val"
   ]
  },
  {
   "cell_type": "code",
   "execution_count": 24,
   "metadata": {
    "id": "3GU72N-Gcslz"
   },
   "outputs": [
    {
     "data": {
      "text/plain": [
       "False"
      ]
     },
     "execution_count": 24,
     "metadata": {},
     "output_type": "execute_result"
    }
   ],
   "source": [
    "p, q = True, False\n",
    "conj = p and q\n",
    "conj"
   ]
  },
  {
   "cell_type": "code",
   "execution_count": 25,
   "metadata": {
    "id": "ihMxcT6KcvQj"
   },
   "outputs": [
    {
     "data": {
      "text/plain": [
       "True"
      ]
     },
     "execution_count": 25,
     "metadata": {},
     "output_type": "execute_result"
    }
   ],
   "source": [
    "p, q = True, False\n",
    "disj = p or q\n",
    "disj"
   ]
  },
  {
   "cell_type": "code",
   "execution_count": 26,
   "metadata": {
    "id": "T-QfmeYgcyGQ"
   },
   "outputs": [
    {
     "data": {
      "text/plain": [
       "True"
      ]
     },
     "execution_count": 26,
     "metadata": {},
     "output_type": "execute_result"
    }
   ],
   "source": [
    "p, q = True, False\n",
    "nand = not(p and q)\n",
    "nand"
   ]
  },
  {
   "cell_type": "code",
   "execution_count": 27,
   "metadata": {
    "id": "2HL7SlVbc10k"
   },
   "outputs": [
    {
     "data": {
      "text/plain": [
       "True"
      ]
     },
     "execution_count": 27,
     "metadata": {},
     "output_type": "execute_result"
    }
   ],
   "source": [
    "p, q = True, False\n",
    "xor = (not p and q) or (p and not q)\n",
    "xor"
   ]
  },
  {
   "cell_type": "markdown",
   "metadata": {
    "id": "AQx4DKafYffJ"
   },
   "source": [
    "### I/O"
   ]
  },
  {
   "cell_type": "code",
   "execution_count": 28,
   "metadata": {
    "id": "Q-DVERG5Yk9w"
   },
   "outputs": [
    {
     "name": "stdout",
     "output_type": "stream",
     "text": [
      "Hello World\n"
     ]
    }
   ],
   "source": [
    "print(\"Hello World\")"
   ]
  },
  {
   "cell_type": "code",
   "execution_count": 29,
   "metadata": {
    "id": "fS5wN51beSVF"
   },
   "outputs": [],
   "source": [
    "cnt = 1"
   ]
  },
  {
   "cell_type": "code",
   "execution_count": 30,
   "metadata": {
    "id": "hKNaUXmdZdUo"
   },
   "outputs": [
    {
     "name": "stdout",
     "output_type": "stream",
     "text": [
      "Hello World , Current run count is: 1\n"
     ]
    }
   ],
   "source": [
    "string = \"Hello World\"\n",
    "print(string, \", Current run count is:\", cnt)\n",
    "cnt += 1"
   ]
  },
  {
   "cell_type": "code",
   "execution_count": null,
   "metadata": {
    "id": "15_WdzEZcOVX"
   },
   "outputs": [],
   "source": [
    "print(f\"{string}, Current count is: {cnt}\")"
   ]
  },
  {
   "cell_type": "code",
   "execution_count": 31,
   "metadata": {
    "id": "5m9XtFOPcOXo"
   },
   "outputs": [
    {
     "name": "stdout",
     "output_type": "stream",
     "text": [
      "Hello , your semestral grade is: 82.24356465746123\n"
     ]
    }
   ],
   "source": [
    "sem_grade = 82.243564657461234\n",
    "name = \"\"\n",
    "print(\"Hello {}, your semestral grade is: {}\".format(name, sem_grade))"
   ]
  },
  {
   "cell_type": "code",
   "execution_count": 32,
   "metadata": {
    "id": "SMJx6bTnfdgZ"
   },
   "outputs": [
    {
     "name": "stdout",
     "output_type": "stream",
     "text": [
      "The weights of your semestral grades are:\n",
      "\t30.00% for Prelims\n",
      "\t30.00% for Midterms, and\n",
      "\t40.00% for Finals.\n"
     ]
    }
   ],
   "source": [
    "w_pg, w_mg, w_fg = 0.3, 0.3, 0.4\n",
    "print(\"The weights of your semestral grades are:\\\n",
    "\\n\\t{:.2%} for Prelims\\\n",
    "\\n\\t{:.2%} for Midterms, and\\\n",
    "\\n\\t{:.2%} for Finals.\".format(w_pg, w_mg, w_fg))"
   ]
  },
  {
   "cell_type": "code",
   "execution_count": 33,
   "metadata": {
    "id": "Ob2I_zR3jAcZ"
   },
   "outputs": [
    {
     "name": "stdout",
     "output_type": "stream",
     "text": [
      "enter a number: 88\n"
     ]
    },
    {
     "data": {
      "text/plain": [
       "'88'"
      ]
     },
     "execution_count": 33,
     "metadata": {},
     "output_type": "execute_result"
    }
   ],
   "source": [
    "x = input(\"enter a number: \")\n",
    "x"
   ]
  },
  {
   "cell_type": "code",
   "execution_count": 34,
   "metadata": {
    "id": "T7ODFfcMh9Pg"
   },
   "outputs": [
    {
     "name": "stdout",
     "output_type": "stream",
     "text": [
      "Kimi no nawa: tin\n",
      "Enter prelim grade: 89\n",
      "Enter midterm grade: 77\n",
      "Enter finals grade: \n",
      "Hello tin,your semestral grade is: None\n"
     ]
    }
   ],
   "source": [
    "name = input(\"Kimi no nawa: \")\n",
    "pg = input(\"Enter prelim grade: \")\n",
    "mg = input(\"Enter midterm grade: \")\n",
    "fg = input(\"Enter finals grade: \")\n",
    "sem_grade = None\n",
    "print(\"Hello {},your semestral grade is: {}\".format(name, sem_grade))"
   ]
  },
  {
   "cell_type": "markdown",
   "metadata": {},
   "source": [
    "***\n",
    "<font color=green>Looping statements are commands that will iterate a certain function or sequence according to the conditions set. It will iterate until the conditions are met.</font>\n",
    "***"
   ]
  },
  {
   "cell_type": "markdown",
   "metadata": {
    "id": "i0g3EothhvqL"
   },
   "source": [
    "# Looping Statements"
   ]
  },
  {
   "cell_type": "markdown",
   "metadata": {
    "id": "j4w90VAIjcFJ"
   },
   "source": [
    "## While"
   ]
  },
  {
   "cell_type": "code",
   "execution_count": 35,
   "metadata": {
    "id": "4vtSrBPThlse"
   },
   "outputs": [
    {
     "name": "stdout",
     "output_type": "stream",
     "text": [
      "0\t|\t10\n",
      "1\t|\t10\n",
      "2\t|\t10\n",
      "3\t|\t10\n",
      "4\t|\t10\n",
      "5\t|\t10\n",
      "6\t|\t10\n",
      "7\t|\t10\n",
      "8\t|\t10\n",
      "9\t|\t10\n",
      "10\t|\t10\n"
     ]
    }
   ],
   "source": [
    "## while loops\n",
    "i, j = 0, 10\n",
    "while(i<=j):\n",
    "    print(f\"{i}\\t|\\t{j}\")\n",
    "    i+=1"
   ]
  },
  {
   "cell_type": "markdown",
   "metadata": {
    "id": "Qz6AH6jRjfUg"
   },
   "source": [
    "## For"
   ]
  },
  {
   "cell_type": "code",
   "execution_count": 36,
   "metadata": {
    "id": "q0DUwfRkjZY7"
   },
   "outputs": [
    {
     "name": "stdout",
     "output_type": "stream",
     "text": [
      "0\n",
      "1\n",
      "2\n",
      "3\n",
      "4\n",
      "5\n",
      "6\n",
      "7\n",
      "8\n",
      "9\n"
     ]
    }
   ],
   "source": [
    "# for(int i=0; i<10; i++){\n",
    "# printf(i)\n",
    "# }\n",
    "\n",
    "i=0\n",
    "for i in range(10):\n",
    "    print(i)"
   ]
  },
  {
   "cell_type": "code",
   "execution_count": 37,
   "metadata": {
    "id": "zaM--lUhjiUg"
   },
   "outputs": [
    {
     "name": "stdout",
     "output_type": "stream",
     "text": [
      "Now Playing:\n",
      "\n"
     ]
    }
   ],
   "source": [
    "playlist = []\n",
    "print('Now Playing:\\n')\n",
    "for song in playlist:\n",
    "    print(song)"
   ]
  },
  {
   "cell_type": "markdown",
   "metadata": {
    "id": "N6jTqTZojnSg"
   },
   "source": [
    "# Flow Control"
   ]
  },
  {
   "cell_type": "markdown",
   "metadata": {},
   "source": [
    "***\n",
    "<font color=green>A conditional statements is how the computer perform its decision-making. Python will perform different computations or actions depending the input value where it will match to the set conditions. Meaning there will be different assigned outputs depending on the input value/s.</font>\n",
    "***"
   ]
  },
  {
   "cell_type": "markdown",
   "metadata": {
    "id": "uhnsV2CijrWQ"
   },
   "source": [
    "## Condition Statements"
   ]
  },
  {
   "cell_type": "code",
   "execution_count": null,
   "metadata": {
    "id": "seJplrJojmTg"
   },
   "outputs": [],
   "source": [
    "numeral1, numeral2 = 12, 12\n",
    "if(numeral1 == numeral2):\n",
    "    print(\"Yey\")\n",
    "elif(numeral1>numeral2):\n",
    "    print(\"Hoho\")\n",
    "else:\n",
    "    print(\"Aww\")\n",
    "print(\"Hip hip\")"
   ]
  },
  {
   "cell_type": "markdown",
   "metadata": {},
   "source": [
    "***\n",
    "<font color=green>A Function is a block of code where it only runs when being called. Just like how a variable used. The difference is once it called it will perform its assigned task as long the parameters been filled out. It can return data as a result. It is a reusable code designed to perform a computational, logical or evaluative tasks.</font>\n",
    "***"
   ]
  },
  {
   "cell_type": "markdown",
   "metadata": {
    "id": "tlnG1OKilNLo"
   },
   "source": [
    "# Functions"
   ]
  },
  {
   "cell_type": "code",
   "execution_count": null,
   "metadata": {
    "id": "1iMUEipnlUKY"
   },
   "outputs": [],
   "source": [
    "# void DeleteUser(int userid){\n",
    "#     delete(userid);\n",
    "# }\n",
    "\n",
    "def delete_user (userid):\n",
    "    print(\"Successfully deleted user: {}\".format(userid))\n",
    "    \n",
    "def delete_all_users ():\n",
    "    print(\"Successfully deleted all users\")"
   ]
  },
  {
   "cell_type": "code",
   "execution_count": null,
   "metadata": {
    "id": "v_TkrftylUEA"
   },
   "outputs": [],
   "source": [
    "userid = 0\n",
    "delete_user(0)\n",
    "delete_all_users()"
   ]
  },
  {
   "cell_type": "code",
   "execution_count": null,
   "metadata": {
    "id": "M0ffjw31lT8Y"
   },
   "outputs": [],
   "source": [
    "def add(addend1, addend2):\n",
    "    return addend1 + addend2\n",
    "\n",
    "def power_of_base2(exponent):\n",
    "    return 2**exponent"
   ]
  },
  {
   "cell_type": "markdown",
   "metadata": {},
   "source": [
    "***\n",
    "<font color=green> A Lambda function is a small anonymous function. It is defined without a name thus with anonymous. Its used is to shorten the code. </font>\n",
    "***"
   ]
  },
  {
   "cell_type": "markdown",
   "metadata": {
    "id": "2_tDT01oFEGQ"
   },
   "source": [
    "### Lambda Functions"
   ]
  },
  {
   "cell_type": "code",
   "execution_count": null,
   "metadata": {
    "id": "tmmBNW9pFg-4"
   },
   "outputs": [],
   "source": [
    "x = 4"
   ]
  },
  {
   "cell_type": "code",
   "execution_count": null,
   "metadata": {
    "id": "_9KYzCrIFCpI"
   },
   "outputs": [],
   "source": [
    "def f(x):\n",
    "  return 2*(x*x)-1\n",
    "f(x)"
   ]
  },
  {
   "cell_type": "code",
   "execution_count": null,
   "metadata": {
    "id": "a2uwKwqFFafn"
   },
   "outputs": [],
   "source": [
    "g = lambda x: 2*(x*x)-1\n",
    "print(g(x))"
   ]
  },
  {
   "cell_type": "code",
   "execution_count": null,
   "metadata": {
    "id": "Rjm9RFrGlMgA"
   },
   "outputs": [],
   "source": [
    "'''\n",
    "Create a grade calculator that computes for the semestral grade of a course.\n",
    "Students could type their names, the name of the course, then their prelim,\n",
    "midterm, and final grade.\n",
    "The program should print the semestral grade in 2 decimal points and should\n",
    "display the following emojis depending on the situation:\n",
    "happy - when grade is greater than 70.00\n",
    "laughing - when grade is exactly 70.00\n",
    "sad - when grade is below 70.00\n",
    "'''\n",
    "happy, lol, sad = \"\\U0001F600\",\"\\U0001F923\",\"\\U0001F619\""
   ]
  },
  {
   "cell_type": "code",
   "execution_count": 3,
   "metadata": {},
   "outputs": [],
   "source": [
    "w_pg, w_mg, w_fg = 0.3, 0.3, 0.4\n",
    "happy, lol, sad = \"\\U0001F600\",\"\\U0001F923\",\"\\U0001F619\"\n",
    "\n",
    "def calculator():\n",
    "    student_name= input(\"Enter Student Name:\")\n",
    "    course= input(\"Enter Course:\")\n",
    "    pg = float(input(\"Enter prelim grade: \"))\n",
    "    mg = float(input(\"Enter midterm grade: \"))\n",
    "    fg = float(input(\"Enter finals grade: \"))\n",
    "    sem_grade = pg*w_pg + mg*w_mg + fg*w_fg\n",
    "    \n",
    "    if sem_grade ==70:\n",
    "        print(\"Hello {} of {} your semestral grade is: {}{}\".format(student_name,course,sem_grade,lol))\n",
    "    elif sem_grade >70:\n",
    "        print(\"Hello {} of {} your semestral grade is: {}{}\".format(student_name,course,sem_grade,happy))\n",
    "    else:\n",
    "        print(\"Hello {} of {} your semestral grade is: {}{}\".format(student_name,course,sem_grade,sad))\n",
    "    return "
   ]
  },
  {
   "cell_type": "code",
   "execution_count": 4,
   "metadata": {},
   "outputs": [
    {
     "name": "stdout",
     "output_type": "stream",
     "text": [
      "Enter Student Name:Marie\n",
      "Enter Course:ii\n",
      "Enter prelim grade: 89\n",
      "Enter midterm grade: 12\n",
      "Enter finals grade: 33\n",
      "Hello Marie of ii your semestral grade is: 43.5😙\n"
     ]
    }
   ],
   "source": [
    "calculator()"
   ]
  }
 ],
 "metadata": {
  "colab": {
   "authorship_tag": "ABX9TyOLTnlQQtWMGpWr583XlWhX",
   "collapsed_sections": [],
   "include_colab_link": true,
   "name": "CpE Programming 101.b - Python Fundamentals",
   "provenance": []
  },
  "kernelspec": {
   "display_name": "Python 3",
   "language": "python",
   "name": "python3"
  },
  "language_info": {
   "codemirror_mode": {
    "name": "ipython",
    "version": 3
   },
   "file_extension": ".py",
   "mimetype": "text/x-python",
   "name": "python",
   "nbconvert_exporter": "python",
   "pygments_lexer": "ipython3",
   "version": "3.8.5"
  }
 },
 "nbformat": 4,
 "nbformat_minor": 1
}
